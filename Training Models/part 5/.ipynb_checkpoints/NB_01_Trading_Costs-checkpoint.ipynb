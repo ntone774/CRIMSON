{
 "cells": [
  {
   "cell_type": "markdown",
   "metadata": {},
   "source": [
    "# Trading Hours, Spreads and Granularity - control and limit Trading Costs"
   ]
  },
  {
   "cell_type": "markdown",
   "metadata": {},
   "source": [
    "__Goal__: Finding the right Trading hours and granularity to control and limit costs."
   ]
  },
  {
   "cell_type": "markdown",
   "metadata": {},
   "source": [
    "__Problem__: We can´t forecast returns with high accuracy -> In all cases where we predict market direction correctly, price movements/volatility must be large enough to cover trading costs."
   ]
  },
  {
   "cell_type": "markdown",
   "metadata": {},
   "source": [
    "__Solution__: <br> \n",
    "-Make Trades only during busy Trading hours (increased Volatility)<br>\n",
    "-Lower Granularity leads to larger price movements per bar/candle (to cover Trading Costs) \n"
   ]
  },
  {
   "cell_type": "markdown",
   "metadata": {},
   "source": [
    "__Trade Off__: The higher the Granularity the more likely it is to find markets inefficiencies and mispricing."
   ]
  },
  {
   "cell_type": "markdown",
   "metadata": {},
   "source": [
    "## Getting and Preparing the Data"
   ]
  },
  {
   "cell_type": "code",
   "execution_count": 1,
   "metadata": {
    "scrolled": true
   },
   "outputs": [],
   "source": [
    "import pandas as pd\n",
    "import numpy as np\n",
    "import matplotlib.pyplot as plt\n",
    "plt.style.use(\"seaborn-v0_8\")"
   ]
  },
  {
   "cell_type": "code",
   "execution_count": 2,
   "metadata": {},
   "outputs": [],
   "source": [
    "df = pd.read_csv(\"bid_ask.csv\", parse_dates = [\"time\"], index_col = \"time\")"
   ]
  },
  {
   "cell_type": "code",
   "execution_count": 3,
   "metadata": {},
   "outputs": [
    {
     "data": {
      "text/html": [
       "<div>\n",
       "<style scoped>\n",
       "    .dataframe tbody tr th:only-of-type {\n",
       "        vertical-align: middle;\n",
       "    }\n",
       "\n",
       "    .dataframe tbody tr th {\n",
       "        vertical-align: top;\n",
       "    }\n",
       "\n",
       "    .dataframe thead th {\n",
       "        text-align: right;\n",
       "    }\n",
       "</style>\n",
       "<table border=\"1\" class=\"dataframe\">\n",
       "  <thead>\n",
       "    <tr style=\"text-align: right;\">\n",
       "      <th></th>\n",
       "      <th>volume</th>\n",
       "      <th>ask</th>\n",
       "      <th>bid</th>\n",
       "      <th>spread</th>\n",
       "      <th>mid</th>\n",
       "    </tr>\n",
       "    <tr>\n",
       "      <th>time</th>\n",
       "      <th></th>\n",
       "      <th></th>\n",
       "      <th></th>\n",
       "      <th></th>\n",
       "      <th></th>\n",
       "    </tr>\n",
       "  </thead>\n",
       "  <tbody>\n",
       "    <tr>\n",
       "      <th>2019-07-21 21:00:00+00:00</th>\n",
       "      <td>12</td>\n",
       "      <td>1.12164</td>\n",
       "      <td>1.12131</td>\n",
       "      <td>0.00033</td>\n",
       "      <td>1.121475</td>\n",
       "    </tr>\n",
       "    <tr>\n",
       "      <th>2019-07-21 21:05:00+00:00</th>\n",
       "      <td>12</td>\n",
       "      <td>1.12182</td>\n",
       "      <td>1.12157</td>\n",
       "      <td>0.00025</td>\n",
       "      <td>1.121695</td>\n",
       "    </tr>\n",
       "    <tr>\n",
       "      <th>2019-07-21 21:10:00+00:00</th>\n",
       "      <td>1</td>\n",
       "      <td>1.12176</td>\n",
       "      <td>1.12158</td>\n",
       "      <td>0.00018</td>\n",
       "      <td>1.121670</td>\n",
       "    </tr>\n",
       "    <tr>\n",
       "      <th>2019-07-21 21:15:00+00:00</th>\n",
       "      <td>18</td>\n",
       "      <td>1.12190</td>\n",
       "      <td>1.12141</td>\n",
       "      <td>0.00049</td>\n",
       "      <td>1.121655</td>\n",
       "    </tr>\n",
       "    <tr>\n",
       "      <th>2019-07-21 21:20:00+00:00</th>\n",
       "      <td>9</td>\n",
       "      <td>1.12201</td>\n",
       "      <td>1.12167</td>\n",
       "      <td>0.00034</td>\n",
       "      <td>1.121840</td>\n",
       "    </tr>\n",
       "    <tr>\n",
       "      <th>...</th>\n",
       "      <td>...</td>\n",
       "      <td>...</td>\n",
       "      <td>...</td>\n",
       "      <td>...</td>\n",
       "      <td>...</td>\n",
       "    </tr>\n",
       "    <tr>\n",
       "      <th>2020-10-20 23:35:00+00:00</th>\n",
       "      <td>81</td>\n",
       "      <td>1.18275</td>\n",
       "      <td>1.18261</td>\n",
       "      <td>0.00014</td>\n",
       "      <td>1.182680</td>\n",
       "    </tr>\n",
       "    <tr>\n",
       "      <th>2020-10-20 23:40:00+00:00</th>\n",
       "      <td>92</td>\n",
       "      <td>1.18276</td>\n",
       "      <td>1.18263</td>\n",
       "      <td>0.00013</td>\n",
       "      <td>1.182695</td>\n",
       "    </tr>\n",
       "    <tr>\n",
       "      <th>2020-10-20 23:45:00+00:00</th>\n",
       "      <td>101</td>\n",
       "      <td>1.18275</td>\n",
       "      <td>1.18262</td>\n",
       "      <td>0.00013</td>\n",
       "      <td>1.182685</td>\n",
       "    </tr>\n",
       "    <tr>\n",
       "      <th>2020-10-20 23:50:00+00:00</th>\n",
       "      <td>63</td>\n",
       "      <td>1.18311</td>\n",
       "      <td>1.18297</td>\n",
       "      <td>0.00014</td>\n",
       "      <td>1.183040</td>\n",
       "    </tr>\n",
       "    <tr>\n",
       "      <th>2020-10-20 23:55:00+00:00</th>\n",
       "      <td>89</td>\n",
       "      <td>1.18298</td>\n",
       "      <td>1.18285</td>\n",
       "      <td>0.00013</td>\n",
       "      <td>1.182915</td>\n",
       "    </tr>\n",
       "  </tbody>\n",
       "</table>\n",
       "<p>93021 rows × 5 columns</p>\n",
       "</div>"
      ],
      "text/plain": [
       "                           volume      ask      bid   spread       mid\n",
       "time                                                                  \n",
       "2019-07-21 21:00:00+00:00      12  1.12164  1.12131  0.00033  1.121475\n",
       "2019-07-21 21:05:00+00:00      12  1.12182  1.12157  0.00025  1.121695\n",
       "2019-07-21 21:10:00+00:00       1  1.12176  1.12158  0.00018  1.121670\n",
       "2019-07-21 21:15:00+00:00      18  1.12190  1.12141  0.00049  1.121655\n",
       "2019-07-21 21:20:00+00:00       9  1.12201  1.12167  0.00034  1.121840\n",
       "...                           ...      ...      ...      ...       ...\n",
       "2020-10-20 23:35:00+00:00      81  1.18275  1.18261  0.00014  1.182680\n",
       "2020-10-20 23:40:00+00:00      92  1.18276  1.18263  0.00013  1.182695\n",
       "2020-10-20 23:45:00+00:00     101  1.18275  1.18262  0.00013  1.182685\n",
       "2020-10-20 23:50:00+00:00      63  1.18311  1.18297  0.00014  1.183040\n",
       "2020-10-20 23:55:00+00:00      89  1.18298  1.18285  0.00013  1.182915\n",
       "\n",
       "[93021 rows x 5 columns]"
      ]
     },
     "execution_count": 3,
     "metadata": {},
     "output_type": "execute_result"
    }
   ],
   "source": [
    "df"
   ]
  },
  {
   "cell_type": "code",
   "execution_count": 4,
   "metadata": {},
   "outputs": [
    {
     "name": "stdout",
     "output_type": "stream",
     "text": [
      "<class 'pandas.core.frame.DataFrame'>\n",
      "DatetimeIndex: 93021 entries, 2019-07-21 21:00:00+00:00 to 2020-10-20 23:55:00+00:00\n",
      "Data columns (total 5 columns):\n",
      " #   Column  Non-Null Count  Dtype  \n",
      "---  ------  --------------  -----  \n",
      " 0   volume  93021 non-null  int64  \n",
      " 1   ask     93021 non-null  float64\n",
      " 2   bid     93021 non-null  float64\n",
      " 3   spread  93021 non-null  float64\n",
      " 4   mid     93021 non-null  float64\n",
      "dtypes: float64(4), int64(1)\n",
      "memory usage: 4.3 MB\n"
     ]
    }
   ],
   "source": [
    "df.info()"
   ]
  },
  {
   "cell_type": "code",
   "execution_count": 5,
   "metadata": {},
   "outputs": [
    {
     "data": {
      "text/plain": [
       "datetime.timezone.utc"
      ]
     },
     "execution_count": 5,
     "metadata": {},
     "output_type": "execute_result"
    }
   ],
   "source": [
    "df.index.tz"
   ]
  },
  {
   "cell_type": "code",
   "execution_count": 6,
   "metadata": {},
   "outputs": [],
   "source": [
    "df[\"NYTime\"] = df.index.tz_convert(\"America/New_York\")"
   ]
  },
  {
   "cell_type": "code",
   "execution_count": 7,
   "metadata": {},
   "outputs": [
    {
     "data": {
      "text/html": [
       "<div>\n",
       "<style scoped>\n",
       "    .dataframe tbody tr th:only-of-type {\n",
       "        vertical-align: middle;\n",
       "    }\n",
       "\n",
       "    .dataframe tbody tr th {\n",
       "        vertical-align: top;\n",
       "    }\n",
       "\n",
       "    .dataframe thead th {\n",
       "        text-align: right;\n",
       "    }\n",
       "</style>\n",
       "<table border=\"1\" class=\"dataframe\">\n",
       "  <thead>\n",
       "    <tr style=\"text-align: right;\">\n",
       "      <th></th>\n",
       "      <th>volume</th>\n",
       "      <th>ask</th>\n",
       "      <th>bid</th>\n",
       "      <th>spread</th>\n",
       "      <th>mid</th>\n",
       "      <th>NYTime</th>\n",
       "    </tr>\n",
       "    <tr>\n",
       "      <th>time</th>\n",
       "      <th></th>\n",
       "      <th></th>\n",
       "      <th></th>\n",
       "      <th></th>\n",
       "      <th></th>\n",
       "      <th></th>\n",
       "    </tr>\n",
       "  </thead>\n",
       "  <tbody>\n",
       "    <tr>\n",
       "      <th>2019-07-21 21:00:00+00:00</th>\n",
       "      <td>12</td>\n",
       "      <td>1.12164</td>\n",
       "      <td>1.12131</td>\n",
       "      <td>0.00033</td>\n",
       "      <td>1.121475</td>\n",
       "      <td>2019-07-21 17:00:00-04:00</td>\n",
       "    </tr>\n",
       "    <tr>\n",
       "      <th>2019-07-21 21:05:00+00:00</th>\n",
       "      <td>12</td>\n",
       "      <td>1.12182</td>\n",
       "      <td>1.12157</td>\n",
       "      <td>0.00025</td>\n",
       "      <td>1.121695</td>\n",
       "      <td>2019-07-21 17:05:00-04:00</td>\n",
       "    </tr>\n",
       "    <tr>\n",
       "      <th>2019-07-21 21:10:00+00:00</th>\n",
       "      <td>1</td>\n",
       "      <td>1.12176</td>\n",
       "      <td>1.12158</td>\n",
       "      <td>0.00018</td>\n",
       "      <td>1.121670</td>\n",
       "      <td>2019-07-21 17:10:00-04:00</td>\n",
       "    </tr>\n",
       "    <tr>\n",
       "      <th>2019-07-21 21:15:00+00:00</th>\n",
       "      <td>18</td>\n",
       "      <td>1.12190</td>\n",
       "      <td>1.12141</td>\n",
       "      <td>0.00049</td>\n",
       "      <td>1.121655</td>\n",
       "      <td>2019-07-21 17:15:00-04:00</td>\n",
       "    </tr>\n",
       "    <tr>\n",
       "      <th>2019-07-21 21:20:00+00:00</th>\n",
       "      <td>9</td>\n",
       "      <td>1.12201</td>\n",
       "      <td>1.12167</td>\n",
       "      <td>0.00034</td>\n",
       "      <td>1.121840</td>\n",
       "      <td>2019-07-21 17:20:00-04:00</td>\n",
       "    </tr>\n",
       "    <tr>\n",
       "      <th>...</th>\n",
       "      <td>...</td>\n",
       "      <td>...</td>\n",
       "      <td>...</td>\n",
       "      <td>...</td>\n",
       "      <td>...</td>\n",
       "      <td>...</td>\n",
       "    </tr>\n",
       "    <tr>\n",
       "      <th>2020-10-20 23:35:00+00:00</th>\n",
       "      <td>81</td>\n",
       "      <td>1.18275</td>\n",
       "      <td>1.18261</td>\n",
       "      <td>0.00014</td>\n",
       "      <td>1.182680</td>\n",
       "      <td>2020-10-20 19:35:00-04:00</td>\n",
       "    </tr>\n",
       "    <tr>\n",
       "      <th>2020-10-20 23:40:00+00:00</th>\n",
       "      <td>92</td>\n",
       "      <td>1.18276</td>\n",
       "      <td>1.18263</td>\n",
       "      <td>0.00013</td>\n",
       "      <td>1.182695</td>\n",
       "      <td>2020-10-20 19:40:00-04:00</td>\n",
       "    </tr>\n",
       "    <tr>\n",
       "      <th>2020-10-20 23:45:00+00:00</th>\n",
       "      <td>101</td>\n",
       "      <td>1.18275</td>\n",
       "      <td>1.18262</td>\n",
       "      <td>0.00013</td>\n",
       "      <td>1.182685</td>\n",
       "      <td>2020-10-20 19:45:00-04:00</td>\n",
       "    </tr>\n",
       "    <tr>\n",
       "      <th>2020-10-20 23:50:00+00:00</th>\n",
       "      <td>63</td>\n",
       "      <td>1.18311</td>\n",
       "      <td>1.18297</td>\n",
       "      <td>0.00014</td>\n",
       "      <td>1.183040</td>\n",
       "      <td>2020-10-20 19:50:00-04:00</td>\n",
       "    </tr>\n",
       "    <tr>\n",
       "      <th>2020-10-20 23:55:00+00:00</th>\n",
       "      <td>89</td>\n",
       "      <td>1.18298</td>\n",
       "      <td>1.18285</td>\n",
       "      <td>0.00013</td>\n",
       "      <td>1.182915</td>\n",
       "      <td>2020-10-20 19:55:00-04:00</td>\n",
       "    </tr>\n",
       "  </tbody>\n",
       "</table>\n",
       "<p>93021 rows × 6 columns</p>\n",
       "</div>"
      ],
      "text/plain": [
       "                           volume      ask      bid   spread       mid  \\\n",
       "time                                                                     \n",
       "2019-07-21 21:00:00+00:00      12  1.12164  1.12131  0.00033  1.121475   \n",
       "2019-07-21 21:05:00+00:00      12  1.12182  1.12157  0.00025  1.121695   \n",
       "2019-07-21 21:10:00+00:00       1  1.12176  1.12158  0.00018  1.121670   \n",
       "2019-07-21 21:15:00+00:00      18  1.12190  1.12141  0.00049  1.121655   \n",
       "2019-07-21 21:20:00+00:00       9  1.12201  1.12167  0.00034  1.121840   \n",
       "...                           ...      ...      ...      ...       ...   \n",
       "2020-10-20 23:35:00+00:00      81  1.18275  1.18261  0.00014  1.182680   \n",
       "2020-10-20 23:40:00+00:00      92  1.18276  1.18263  0.00013  1.182695   \n",
       "2020-10-20 23:45:00+00:00     101  1.18275  1.18262  0.00013  1.182685   \n",
       "2020-10-20 23:50:00+00:00      63  1.18311  1.18297  0.00014  1.183040   \n",
       "2020-10-20 23:55:00+00:00      89  1.18298  1.18285  0.00013  1.182915   \n",
       "\n",
       "                                             NYTime  \n",
       "time                                                 \n",
       "2019-07-21 21:00:00+00:00 2019-07-21 17:00:00-04:00  \n",
       "2019-07-21 21:05:00+00:00 2019-07-21 17:05:00-04:00  \n",
       "2019-07-21 21:10:00+00:00 2019-07-21 17:10:00-04:00  \n",
       "2019-07-21 21:15:00+00:00 2019-07-21 17:15:00-04:00  \n",
       "2019-07-21 21:20:00+00:00 2019-07-21 17:20:00-04:00  \n",
       "...                                             ...  \n",
       "2020-10-20 23:35:00+00:00 2020-10-20 19:35:00-04:00  \n",
       "2020-10-20 23:40:00+00:00 2020-10-20 19:40:00-04:00  \n",
       "2020-10-20 23:45:00+00:00 2020-10-20 19:45:00-04:00  \n",
       "2020-10-20 23:50:00+00:00 2020-10-20 19:50:00-04:00  \n",
       "2020-10-20 23:55:00+00:00 2020-10-20 19:55:00-04:00  \n",
       "\n",
       "[93021 rows x 6 columns]"
      ]
     },
     "execution_count": 7,
     "metadata": {},
     "output_type": "execute_result"
    }
   ],
   "source": [
    "df"
   ]
  },
  {
   "cell_type": "code",
   "execution_count": 8,
   "metadata": {},
   "outputs": [],
   "source": [
    "df[\"hour\"] = df.NYTime.dt.hour"
   ]
  },
  {
   "cell_type": "code",
   "execution_count": 9,
   "metadata": {},
   "outputs": [
    {
     "data": {
      "text/html": [
       "<div>\n",
       "<style scoped>\n",
       "    .dataframe tbody tr th:only-of-type {\n",
       "        vertical-align: middle;\n",
       "    }\n",
       "\n",
       "    .dataframe tbody tr th {\n",
       "        vertical-align: top;\n",
       "    }\n",
       "\n",
       "    .dataframe thead th {\n",
       "        text-align: right;\n",
       "    }\n",
       "</style>\n",
       "<table border=\"1\" class=\"dataframe\">\n",
       "  <thead>\n",
       "    <tr style=\"text-align: right;\">\n",
       "      <th></th>\n",
       "      <th>volume</th>\n",
       "      <th>ask</th>\n",
       "      <th>bid</th>\n",
       "      <th>spread</th>\n",
       "      <th>mid</th>\n",
       "      <th>NYTime</th>\n",
       "      <th>hour</th>\n",
       "    </tr>\n",
       "    <tr>\n",
       "      <th>time</th>\n",
       "      <th></th>\n",
       "      <th></th>\n",
       "      <th></th>\n",
       "      <th></th>\n",
       "      <th></th>\n",
       "      <th></th>\n",
       "      <th></th>\n",
       "    </tr>\n",
       "  </thead>\n",
       "  <tbody>\n",
       "    <tr>\n",
       "      <th>2019-07-21 21:00:00+00:00</th>\n",
       "      <td>12</td>\n",
       "      <td>1.12164</td>\n",
       "      <td>1.12131</td>\n",
       "      <td>0.00033</td>\n",
       "      <td>1.121475</td>\n",
       "      <td>2019-07-21 17:00:00-04:00</td>\n",
       "      <td>17</td>\n",
       "    </tr>\n",
       "    <tr>\n",
       "      <th>2019-07-21 21:05:00+00:00</th>\n",
       "      <td>12</td>\n",
       "      <td>1.12182</td>\n",
       "      <td>1.12157</td>\n",
       "      <td>0.00025</td>\n",
       "      <td>1.121695</td>\n",
       "      <td>2019-07-21 17:05:00-04:00</td>\n",
       "      <td>17</td>\n",
       "    </tr>\n",
       "    <tr>\n",
       "      <th>2019-07-21 21:10:00+00:00</th>\n",
       "      <td>1</td>\n",
       "      <td>1.12176</td>\n",
       "      <td>1.12158</td>\n",
       "      <td>0.00018</td>\n",
       "      <td>1.121670</td>\n",
       "      <td>2019-07-21 17:10:00-04:00</td>\n",
       "      <td>17</td>\n",
       "    </tr>\n",
       "    <tr>\n",
       "      <th>2019-07-21 21:15:00+00:00</th>\n",
       "      <td>18</td>\n",
       "      <td>1.12190</td>\n",
       "      <td>1.12141</td>\n",
       "      <td>0.00049</td>\n",
       "      <td>1.121655</td>\n",
       "      <td>2019-07-21 17:15:00-04:00</td>\n",
       "      <td>17</td>\n",
       "    </tr>\n",
       "    <tr>\n",
       "      <th>2019-07-21 21:20:00+00:00</th>\n",
       "      <td>9</td>\n",
       "      <td>1.12201</td>\n",
       "      <td>1.12167</td>\n",
       "      <td>0.00034</td>\n",
       "      <td>1.121840</td>\n",
       "      <td>2019-07-21 17:20:00-04:00</td>\n",
       "      <td>17</td>\n",
       "    </tr>\n",
       "    <tr>\n",
       "      <th>...</th>\n",
       "      <td>...</td>\n",
       "      <td>...</td>\n",
       "      <td>...</td>\n",
       "      <td>...</td>\n",
       "      <td>...</td>\n",
       "      <td>...</td>\n",
       "      <td>...</td>\n",
       "    </tr>\n",
       "    <tr>\n",
       "      <th>2020-10-20 23:35:00+00:00</th>\n",
       "      <td>81</td>\n",
       "      <td>1.18275</td>\n",
       "      <td>1.18261</td>\n",
       "      <td>0.00014</td>\n",
       "      <td>1.182680</td>\n",
       "      <td>2020-10-20 19:35:00-04:00</td>\n",
       "      <td>19</td>\n",
       "    </tr>\n",
       "    <tr>\n",
       "      <th>2020-10-20 23:40:00+00:00</th>\n",
       "      <td>92</td>\n",
       "      <td>1.18276</td>\n",
       "      <td>1.18263</td>\n",
       "      <td>0.00013</td>\n",
       "      <td>1.182695</td>\n",
       "      <td>2020-10-20 19:40:00-04:00</td>\n",
       "      <td>19</td>\n",
       "    </tr>\n",
       "    <tr>\n",
       "      <th>2020-10-20 23:45:00+00:00</th>\n",
       "      <td>101</td>\n",
       "      <td>1.18275</td>\n",
       "      <td>1.18262</td>\n",
       "      <td>0.00013</td>\n",
       "      <td>1.182685</td>\n",
       "      <td>2020-10-20 19:45:00-04:00</td>\n",
       "      <td>19</td>\n",
       "    </tr>\n",
       "    <tr>\n",
       "      <th>2020-10-20 23:50:00+00:00</th>\n",
       "      <td>63</td>\n",
       "      <td>1.18311</td>\n",
       "      <td>1.18297</td>\n",
       "      <td>0.00014</td>\n",
       "      <td>1.183040</td>\n",
       "      <td>2020-10-20 19:50:00-04:00</td>\n",
       "      <td>19</td>\n",
       "    </tr>\n",
       "    <tr>\n",
       "      <th>2020-10-20 23:55:00+00:00</th>\n",
       "      <td>89</td>\n",
       "      <td>1.18298</td>\n",
       "      <td>1.18285</td>\n",
       "      <td>0.00013</td>\n",
       "      <td>1.182915</td>\n",
       "      <td>2020-10-20 19:55:00-04:00</td>\n",
       "      <td>19</td>\n",
       "    </tr>\n",
       "  </tbody>\n",
       "</table>\n",
       "<p>93021 rows × 7 columns</p>\n",
       "</div>"
      ],
      "text/plain": [
       "                           volume      ask      bid   spread       mid  \\\n",
       "time                                                                     \n",
       "2019-07-21 21:00:00+00:00      12  1.12164  1.12131  0.00033  1.121475   \n",
       "2019-07-21 21:05:00+00:00      12  1.12182  1.12157  0.00025  1.121695   \n",
       "2019-07-21 21:10:00+00:00       1  1.12176  1.12158  0.00018  1.121670   \n",
       "2019-07-21 21:15:00+00:00      18  1.12190  1.12141  0.00049  1.121655   \n",
       "2019-07-21 21:20:00+00:00       9  1.12201  1.12167  0.00034  1.121840   \n",
       "...                           ...      ...      ...      ...       ...   \n",
       "2020-10-20 23:35:00+00:00      81  1.18275  1.18261  0.00014  1.182680   \n",
       "2020-10-20 23:40:00+00:00      92  1.18276  1.18263  0.00013  1.182695   \n",
       "2020-10-20 23:45:00+00:00     101  1.18275  1.18262  0.00013  1.182685   \n",
       "2020-10-20 23:50:00+00:00      63  1.18311  1.18297  0.00014  1.183040   \n",
       "2020-10-20 23:55:00+00:00      89  1.18298  1.18285  0.00013  1.182915   \n",
       "\n",
       "                                             NYTime  hour  \n",
       "time                                                       \n",
       "2019-07-21 21:00:00+00:00 2019-07-21 17:00:00-04:00    17  \n",
       "2019-07-21 21:05:00+00:00 2019-07-21 17:05:00-04:00    17  \n",
       "2019-07-21 21:10:00+00:00 2019-07-21 17:10:00-04:00    17  \n",
       "2019-07-21 21:15:00+00:00 2019-07-21 17:15:00-04:00    17  \n",
       "2019-07-21 21:20:00+00:00 2019-07-21 17:20:00-04:00    17  \n",
       "...                                             ...   ...  \n",
       "2020-10-20 23:35:00+00:00 2020-10-20 19:35:00-04:00    19  \n",
       "2020-10-20 23:40:00+00:00 2020-10-20 19:40:00-04:00    19  \n",
       "2020-10-20 23:45:00+00:00 2020-10-20 19:45:00-04:00    19  \n",
       "2020-10-20 23:50:00+00:00 2020-10-20 19:50:00-04:00    19  \n",
       "2020-10-20 23:55:00+00:00 2020-10-20 19:55:00-04:00    19  \n",
       "\n",
       "[93021 rows x 7 columns]"
      ]
     },
     "execution_count": 9,
     "metadata": {},
     "output_type": "execute_result"
    }
   ],
   "source": [
    "df"
   ]
  },
  {
   "cell_type": "code",
   "execution_count": null,
   "metadata": {},
   "outputs": [],
   "source": [
    "df[\"price_change_abs\"] = df.mid.diff().abs()"
   ]
  },
  {
   "cell_type": "code",
   "execution_count": null,
   "metadata": {},
   "outputs": [],
   "source": [
    "df"
   ]
  },
  {
   "cell_type": "code",
   "execution_count": null,
   "metadata": {},
   "outputs": [],
   "source": [
    "df.dropna(inplace = True)"
   ]
  },
  {
   "cell_type": "code",
   "execution_count": null,
   "metadata": {},
   "outputs": [],
   "source": []
  },
  {
   "cell_type": "markdown",
   "metadata": {},
   "source": [
    "## The best time to trade (Part 1)"
   ]
  },
  {
   "cell_type": "code",
   "execution_count": null,
   "metadata": {},
   "outputs": [],
   "source": [
    "by_hour = df.groupby(\"hour\")[[\"volume\", \"spread\", \"price_change_abs\"]].mean()\n",
    "by_hour"
   ]
  },
  {
   "cell_type": "code",
   "execution_count": null,
   "metadata": {},
   "outputs": [],
   "source": [
    "by_hour.volume.plot(kind = \"bar\", figsize = (12, 8), fontsize = 13)\n",
    "plt.xlabel(\"NY Time\", fontsize = 15)\n",
    "plt.ylabel(\"Trading Volumne EUR/USD\", fontsize = 15)\n",
    "plt.title(\"Trading Volume\", fontsize = 15)\n",
    "plt.show()"
   ]
  },
  {
   "cell_type": "code",
   "execution_count": null,
   "metadata": {},
   "outputs": [],
   "source": [
    "by_hour.spread.plot(kind = \"bar\", figsize = (12, 8), fontsize = 13)\n",
    "plt.xlabel(\"NY Time\", fontsize = 15)\n",
    "plt.ylabel(\"Spread EUR/USD\", fontsize = 15)\n",
    "plt.title(\"Spread\", fontsize = 15)\n",
    "plt.show()"
   ]
  },
  {
   "cell_type": "code",
   "execution_count": null,
   "metadata": {},
   "outputs": [],
   "source": [
    "by_hour.loc[0:16, \"spread\"].plot(kind = \"bar\", figsize = (12, 8), fontsize = 13)\n",
    "plt.xlabel(\"NY Time\", fontsize = 15)\n",
    "plt.ylabel(\"Spread EUR/USD\", fontsize = 15)\n",
    "plt.title(\"Spread\", fontsize = 15)\n",
    "plt.show()"
   ]
  },
  {
   "cell_type": "code",
   "execution_count": null,
   "metadata": {},
   "outputs": [],
   "source": [
    "by_hour.price_change_abs.plot(kind = \"bar\", figsize = (12, 8), fontsize = 13)\n",
    "plt.xlabel(\"NY Time\", fontsize = 15)\n",
    "plt.ylabel(\"Price Changes EUR/USD\", fontsize = 15)\n",
    "plt.title(\"Price Changes\", fontsize = 15)\n",
    "plt.show()"
   ]
  },
  {
   "cell_type": "code",
   "execution_count": null,
   "metadata": {},
   "outputs": [],
   "source": []
  },
  {
   "cell_type": "markdown",
   "metadata": {},
   "source": [
    "## The best time to trade (Part 2)"
   ]
  },
  {
   "cell_type": "code",
   "execution_count": null,
   "metadata": {},
   "outputs": [],
   "source": [
    "df"
   ]
  },
  {
   "cell_type": "code",
   "execution_count": null,
   "metadata": {},
   "outputs": [],
   "source": [
    "df[\"cover_cost\"] = df.price_change_abs > df.spread"
   ]
  },
  {
   "cell_type": "code",
   "execution_count": null,
   "metadata": {},
   "outputs": [],
   "source": [
    "df"
   ]
  },
  {
   "cell_type": "code",
   "execution_count": null,
   "metadata": {},
   "outputs": [],
   "source": [
    "df.groupby(\"hour\").cover_cost.mean()"
   ]
  },
  {
   "cell_type": "code",
   "execution_count": null,
   "metadata": {},
   "outputs": [],
   "source": [
    "df.groupby(\"hour\").cover_cost.mean().plot(kind = \"bar\", figsize = (12, 8), fontsize = 13)\n",
    "plt.xlabel(\"NY Time\", fontsize = 15)\n",
    "plt.ylabel(\"Percentage of Bars where Costs are covered\", fontsize = 15)\n",
    "plt.show()"
   ]
  },
  {
   "cell_type": "markdown",
   "metadata": {},
   "source": [
    "Busy Trading Hours for __EUR/USD__: from __2:00 am__ to __12:59 pm__ New York Time"
   ]
  },
  {
   "cell_type": "code",
   "execution_count": null,
   "metadata": {},
   "outputs": [],
   "source": []
  },
  {
   "cell_type": "markdown",
   "metadata": {},
   "source": [
    "## Proportional Trading Costs and Trading Hours"
   ]
  },
  {
   "cell_type": "code",
   "execution_count": null,
   "metadata": {},
   "outputs": [],
   "source": [
    "ptc = 0.00007"
   ]
  },
  {
   "cell_type": "code",
   "execution_count": null,
   "metadata": {},
   "outputs": [],
   "source": [
    "ptc"
   ]
  },
  {
   "cell_type": "code",
   "execution_count": null,
   "metadata": {
    "scrolled": false
   },
   "outputs": [],
   "source": [
    "df"
   ]
  },
  {
   "cell_type": "code",
   "execution_count": null,
   "metadata": {},
   "outputs": [],
   "source": [
    "df.spread.mean()"
   ]
  },
  {
   "cell_type": "code",
   "execution_count": null,
   "metadata": {},
   "outputs": [],
   "source": [
    "spread = df.loc[df.hour.between(2, 12), \"spread\"].mean()\n",
    "spread"
   ]
  },
  {
   "cell_type": "code",
   "execution_count": null,
   "metadata": {},
   "outputs": [],
   "source": [
    "ptc = (spread/2) / df.mid.mean()\n",
    "ptc"
   ]
  },
  {
   "cell_type": "code",
   "execution_count": null,
   "metadata": {},
   "outputs": [],
   "source": []
  },
  {
   "cell_type": "markdown",
   "metadata": {},
   "source": [
    "## The Impact of Granularity"
   ]
  },
  {
   "cell_type": "code",
   "execution_count": null,
   "metadata": {},
   "outputs": [],
   "source": [
    "def hours_granularity(freq = None):\n",
    "    df = pd.read_csv(\"bid_ask.csv\", parse_dates = [\"time\"], index_col = \"time\",\n",
    "                     usecols = [\"time\", \"spread\", \"mid\"])\n",
    "    if freq is not None:\n",
    "        df = df.resample(freq).last().dropna()\n",
    "    df[\"NYTime\"] = df.index.tz_convert(\"America/New_York\")\n",
    "    df[\"hour\"] = df.NYTime.dt.hour\n",
    "    df[\"price_change_abs\"] = df.mid.diff().abs()\n",
    "    df[\"cover_cost\"] = df.price_change_abs > df.spread\n",
    "    \n",
    "    df.dropna().groupby(\"hour\").cover_cost.mean().plot(kind = \"bar\", figsize = (12, 8), fontsize = 13)\n",
    "    plt.xlabel(\"NY Time\", fontsize = 15)\n",
    "    plt.ylabel(\"Cover Costs\", fontsize = 15)\n",
    "    plt.title(\"Granularity: {}\".format(freq), fontsize = 18)\n",
    "    plt.yticks([0.1, 0.2, 0.3, 0.4, 0.5, 0.6, 0.7, 0.75, 0.8, 0.85, 0.9, 0.95])\n",
    "    plt.show()"
   ]
  },
  {
   "cell_type": "code",
   "execution_count": null,
   "metadata": {},
   "outputs": [],
   "source": [
    "hours_granularity(freq = \"5min\")"
   ]
  },
  {
   "cell_type": "code",
   "execution_count": null,
   "metadata": {},
   "outputs": [],
   "source": [
    "hours_granularity(freq = \"10min\")"
   ]
  },
  {
   "cell_type": "code",
   "execution_count": null,
   "metadata": {},
   "outputs": [],
   "source": [
    "hours_granularity(freq = \"20min\")"
   ]
  },
  {
   "cell_type": "code",
   "execution_count": null,
   "metadata": {},
   "outputs": [],
   "source": [
    "hours_granularity(freq = \"30min\")"
   ]
  },
  {
   "cell_type": "code",
   "execution_count": null,
   "metadata": {},
   "outputs": [],
   "source": [
    "hours_granularity(freq = \"1H\")"
   ]
  },
  {
   "cell_type": "code",
   "execution_count": null,
   "metadata": {},
   "outputs": [],
   "source": []
  }
 ],
 "metadata": {
  "kernelspec": {
   "display_name": "Python 3 (ipykernel)",
   "language": "python",
   "name": "python3"
  },
  "language_info": {
   "codemirror_mode": {
    "name": "ipython",
    "version": 3
   },
   "file_extension": ".py",
   "mimetype": "text/x-python",
   "name": "python",
   "nbconvert_exporter": "python",
   "pygments_lexer": "ipython3",
   "version": "3.11.7"
  }
 },
 "nbformat": 4,
 "nbformat_minor": 4
}
